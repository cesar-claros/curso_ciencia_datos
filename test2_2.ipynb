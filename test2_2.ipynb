{
  "nbformat": 4,
  "nbformat_minor": 0,
  "metadata": {
    "colab": {
      "name": "test2-2.ipynb",
      "provenance": [],
      "collapsed_sections": [],
      "authorship_tag": "ABX9TyNSQLc49J/Pv2b53QjKBL2h",
      "include_colab_link": true
    },
    "kernelspec": {
      "name": "python3",
      "display_name": "Python 3"
    },
    "language_info": {
      "name": "python"
    }
  },
  "cells": [
    {
      "cell_type": "markdown",
      "metadata": {
        "id": "view-in-github",
        "colab_type": "text"
      },
      "source": [
        "<a href=\"https://colab.research.google.com/github/cesar-claros/curso_ciencia_datos/blob/main/test2_2.ipynb\" target=\"_parent\"><img src=\"https://colab.research.google.com/assets/colab-badge.svg\" alt=\"Open In Colab\"/></a>"
      ]
    },
    {
      "cell_type": "code",
      "metadata": {
        "colab": {
          "base_uri": "https://localhost:8080/"
        },
        "id": "O6TDYdItCleV",
        "outputId": "24bffadd-684c-4fdc-829c-100fb3cee8c4"
      },
      "source": [
        "!git clone https://github.com/cesar-claros/curso_ciencia_datos.git\n",
        "%cd curso_ciencia_datos/"
      ],
      "execution_count": 1,
      "outputs": [
        {
          "output_type": "stream",
          "name": "stdout",
          "text": [
            "Cloning into 'curso_ciencia_datos'...\n",
            "remote: Enumerating objects: 10, done.\u001b[K\n",
            "remote: Counting objects: 100% (10/10), done.\u001b[K\n",
            "remote: Compressing objects: 100% (10/10), done.\u001b[K\n",
            "remote: Total 10 (delta 0), reused 0 (delta 0), pack-reused 0\u001b[K\n",
            "Unpacking objects: 100% (10/10), done.\n",
            "/content/curso_ciencia_datos\n"
          ]
        }
      ]
    },
    {
      "cell_type": "markdown",
      "metadata": {
        "id": "0_azc99djZP7"
      },
      "source": [
        "# 1. Import Libraries"
      ]
    },
    {
      "cell_type": "code",
      "metadata": {
        "id": "8_Jf0tsVqI4t"
      },
      "source": [
        "import numpy as np\n",
        "import pandas as pd\n",
        "from sklearn import linear_model\n",
        "import seaborn as sns\n",
        "import matplotlib.pyplot as plt\n",
        "from sklearn.feature_selection import RFE\n",
        "from sklearn.model_selection import train_test_split\n",
        "from sklearn.model_selection import StratifiedKFold\n",
        "from sklearn.model_selection import RepeatedStratifiedKFold\n",
        "from sklearn.model_selection import cross_val_score\n",
        "from sklearn.metrics import confusion_matrix\n",
        "from matplotlib.cm import get_cmap"
      ],
      "execution_count": 2,
      "outputs": []
    },
    {
      "cell_type": "markdown",
      "metadata": {
        "id": "b4Am7wKPjh4c"
      },
      "source": [
        "# 2. Load dataset"
      ]
    },
    {
      "cell_type": "code",
      "metadata": {
        "colab": {
          "base_uri": "https://localhost:8080/",
          "height": 419
        },
        "id": "MM42czesqS5f",
        "outputId": "4c1c8558-e79d-4e1f-be20-e7fb7bc88f0e"
      },
      "source": [
        "diabetes_data = pd.read_csv(\"DiabetesData1.csv\", sep=\",\")\n",
        "diabetes_data"
      ],
      "execution_count": 4,
      "outputs": [
        {
          "output_type": "execute_result",
          "data": {
            "text/html": [
              "<div>\n",
              "<style scoped>\n",
              "    .dataframe tbody tr th:only-of-type {\n",
              "        vertical-align: middle;\n",
              "    }\n",
              "\n",
              "    .dataframe tbody tr th {\n",
              "        vertical-align: top;\n",
              "    }\n",
              "\n",
              "    .dataframe thead th {\n",
              "        text-align: right;\n",
              "    }\n",
              "</style>\n",
              "<table border=\"1\" class=\"dataframe\">\n",
              "  <thead>\n",
              "    <tr style=\"text-align: right;\">\n",
              "      <th></th>\n",
              "      <th>Embarazos</th>\n",
              "      <th>Glucosa</th>\n",
              "      <th>Presión_Sanguinea</th>\n",
              "      <th>Insulina</th>\n",
              "      <th>BMI</th>\n",
              "      <th>Función_Predictora</th>\n",
              "      <th>Edad</th>\n",
              "      <th>Resultado</th>\n",
              "    </tr>\n",
              "  </thead>\n",
              "  <tbody>\n",
              "    <tr>\n",
              "      <th>0</th>\n",
              "      <td>0</td>\n",
              "      <td>91</td>\n",
              "      <td>68</td>\n",
              "      <td>210</td>\n",
              "      <td>39.9</td>\n",
              "      <td>0.381</td>\n",
              "      <td>25</td>\n",
              "      <td>0</td>\n",
              "    </tr>\n",
              "    <tr>\n",
              "      <th>1</th>\n",
              "      <td>6</td>\n",
              "      <td>85</td>\n",
              "      <td>78</td>\n",
              "      <td>0</td>\n",
              "      <td>31.2</td>\n",
              "      <td>0.382</td>\n",
              "      <td>42</td>\n",
              "      <td>0</td>\n",
              "    </tr>\n",
              "    <tr>\n",
              "      <th>2</th>\n",
              "      <td>10</td>\n",
              "      <td>139</td>\n",
              "      <td>80</td>\n",
              "      <td>0</td>\n",
              "      <td>27.1</td>\n",
              "      <td>1.441</td>\n",
              "      <td>57</td>\n",
              "      <td>0</td>\n",
              "    </tr>\n",
              "    <tr>\n",
              "      <th>3</th>\n",
              "      <td>1</td>\n",
              "      <td>97</td>\n",
              "      <td>64</td>\n",
              "      <td>82</td>\n",
              "      <td>18.2</td>\n",
              "      <td>0.299</td>\n",
              "      <td>21</td>\n",
              "      <td>0</td>\n",
              "    </tr>\n",
              "    <tr>\n",
              "      <th>4</th>\n",
              "      <td>13</td>\n",
              "      <td>152</td>\n",
              "      <td>90</td>\n",
              "      <td>29</td>\n",
              "      <td>26.8</td>\n",
              "      <td>0.731</td>\n",
              "      <td>43</td>\n",
              "      <td>1</td>\n",
              "    </tr>\n",
              "    <tr>\n",
              "      <th>...</th>\n",
              "      <td>...</td>\n",
              "      <td>...</td>\n",
              "      <td>...</td>\n",
              "      <td>...</td>\n",
              "      <td>...</td>\n",
              "      <td>...</td>\n",
              "      <td>...</td>\n",
              "      <td>...</td>\n",
              "    </tr>\n",
              "    <tr>\n",
              "      <th>321</th>\n",
              "      <td>0</td>\n",
              "      <td>102</td>\n",
              "      <td>86</td>\n",
              "      <td>105</td>\n",
              "      <td>29.3</td>\n",
              "      <td>0.695</td>\n",
              "      <td>27</td>\n",
              "      <td>0</td>\n",
              "    </tr>\n",
              "    <tr>\n",
              "      <th>322</th>\n",
              "      <td>2</td>\n",
              "      <td>92</td>\n",
              "      <td>52</td>\n",
              "      <td>0</td>\n",
              "      <td>30.1</td>\n",
              "      <td>0.141</td>\n",
              "      <td>22</td>\n",
              "      <td>0</td>\n",
              "    </tr>\n",
              "    <tr>\n",
              "      <th>323</th>\n",
              "      <td>3</td>\n",
              "      <td>115</td>\n",
              "      <td>66</td>\n",
              "      <td>140</td>\n",
              "      <td>38.1</td>\n",
              "      <td>0.150</td>\n",
              "      <td>28</td>\n",
              "      <td>0</td>\n",
              "    </tr>\n",
              "    <tr>\n",
              "      <th>324</th>\n",
              "      <td>1</td>\n",
              "      <td>124</td>\n",
              "      <td>74</td>\n",
              "      <td>0</td>\n",
              "      <td>27.8</td>\n",
              "      <td>0.100</td>\n",
              "      <td>30</td>\n",
              "      <td>0</td>\n",
              "    </tr>\n",
              "    <tr>\n",
              "      <th>325</th>\n",
              "      <td>1</td>\n",
              "      <td>88</td>\n",
              "      <td>78</td>\n",
              "      <td>76</td>\n",
              "      <td>32.0</td>\n",
              "      <td>0.365</td>\n",
              "      <td>29</td>\n",
              "      <td>0</td>\n",
              "    </tr>\n",
              "  </tbody>\n",
              "</table>\n",
              "<p>326 rows × 8 columns</p>\n",
              "</div>"
            ],
            "text/plain": [
              "     Embarazos  Glucosa  Presión_Sanguinea  ...  Función_Predictora  Edad  Resultado\n",
              "0            0       91                 68  ...               0.381    25          0\n",
              "1            6       85                 78  ...               0.382    42          0\n",
              "2           10      139                 80  ...               1.441    57          0\n",
              "3            1       97                 64  ...               0.299    21          0\n",
              "4           13      152                 90  ...               0.731    43          1\n",
              "..         ...      ...                ...  ...                 ...   ...        ...\n",
              "321          0      102                 86  ...               0.695    27          0\n",
              "322          2       92                 52  ...               0.141    22          0\n",
              "323          3      115                 66  ...               0.150    28          0\n",
              "324          1      124                 74  ...               0.100    30          0\n",
              "325          1       88                 78  ...               0.365    29          0\n",
              "\n",
              "[326 rows x 8 columns]"
            ]
          },
          "metadata": {},
          "execution_count": 4
        }
      ]
    },
    {
      "cell_type": "markdown",
      "metadata": {
        "id": "76UUy5W2rGUU"
      },
      "source": [
        "## Set all numeric data types to float32"
      ]
    },
    {
      "cell_type": "code",
      "metadata": {
        "id": "_ki7sejbqqza"
      },
      "source": [
        "df = diabetes_data.select_dtypes(exclude=object).astype(\"float32\")\n",
        "X = df.drop(['Resultado'], axis=1)\n",
        "Y = df[['Resultado']]"
      ],
      "execution_count": 5,
      "outputs": []
    },
    {
      "cell_type": "markdown",
      "metadata": {
        "id": "S2VySM-pjwKq"
      },
      "source": [
        "# 3. Exploration of raw data"
      ]
    },
    {
      "cell_type": "markdown",
      "metadata": {
        "id": "oUuGE-5kkChk"
      },
      "source": [
        "## 3.1. Correlation of numerical atributes"
      ]
    },
    {
      "cell_type": "code",
      "metadata": {
        "colab": {
          "base_uri": "https://localhost:8080/",
          "height": 354
        },
        "id": "2Z4OAkf_A8nm",
        "outputId": "8857fbb5-98eb-4adf-f1e6-b3f429643760"
      },
      "source": [
        "ax = sns.heatmap(df.corr(), annot=True, lw=1)"
      ],
      "execution_count": 7,
      "outputs": [
        {
          "output_type": "display_data",
          "data": {
            "image/png": "[encoded data removed]",
            "text/plain": [
              "<Figure size 432x288 with 2 Axes>"
            ]
          },
          "metadata": {
            "needs_background": "light"
          }
        }
      ]
    },
    {
      "cell_type": "markdown",
      "metadata": {
        "id": "pfy0yKVhkOyH"
      },
      "source": [
        "## 3.3. Countplot"
      ]
    },
    {
      "cell_type": "code",
      "metadata": {
        "colab": {
          "base_uri": "https://localhost:8080/",
          "height": 279
        },
        "id": "lvhr1d5TkQz_",
        "outputId": "434d6508-f271-4957-be58-ac412dbe4ff4"
      },
      "source": [
        "ax = sns.countplot(x=\"Resultado\", data=df)"
      ],
      "execution_count": 8,
      "outputs": [
        {
          "output_type": "display_data",
          "data": {
            "image/png": "[encoded data removed]",
            "text/plain": [
              "<Figure size 432x288 with 1 Axes>"
            ]
          },
          "metadata": {
            "needs_background": "light"
          }
        }
      ]
    },
    {
      "cell_type": "markdown",
      "metadata": {
        "id": "Zq7ZmCZbkYXE"
      },
      "source": [
        "### This dataset is unbalanced. Therefore, the feature selection and training processes have to be carried out keeping the proportions given by the class label."
      ]
    },
    {
      "cell_type": "markdown",
      "metadata": {
        "id": "nwRAjV7P-Uhy"
      },
      "source": [
        "# 4. Feature selection\n"
      ]
    },
    {
      "cell_type": "markdown",
      "metadata": {
        "id": "Qfai8bZXE2AD"
      },
      "source": [
        "## 4.1. Stratified K-fold Cross-validated Recursive Feature Elimination\n"
      ]
    },
    {
      "cell_type": "code",
      "metadata": {
        "id": "ex6E5fWDFAZI"
      },
      "source": [
        "n_features = 3\n",
        "estimator = linear_model.LogisticRegression(max_iter=500)\n",
        "selector = RFE(estimator=estimator, n_features_to_select=n_features)\n",
        "skf = StratifiedKFold(n_splits=10)\n",
        "ranking_list = []\n",
        "for train_index, test_index in skf.split(X, Y):\n",
        "    X_train, Y_train = X.iloc[train_index], Y.iloc[train_index]\n",
        "    selector = selector.fit(X_train, Y_train.values.ravel())\n",
        "    ranking_list.append(selector.ranking_)\n",
        "ranking_mat = np.array(ranking_list)\n",
        "ranking_mat = np.where(ranking_mat==1, ranking_mat, 0)"
      ],
      "execution_count": 9,
      "outputs": []
    },
    {
      "cell_type": "code",
      "metadata": {
        "colab": {
          "base_uri": "https://localhost:8080/",
          "height": 383
        },
        "id": "Lu-uIeZmQMSQ",
        "outputId": "012f3468-6768-4be8-8711-ad49ba464ac5"
      },
      "source": [
        "ranking_df = pd.DataFrame(ranking_mat, columns=X.columns.values)\n",
        "mask = (-ranking_df.sum(axis=0)).argsort()[:n_features]\n",
        "ax = ranking_df.sum(axis=0).plot.bar()\n",
        "ax.set_ylabel('counts')\n",
        "ax.set_title('Number of times a feature get selected')"
      ],
      "execution_count": 10,
      "outputs": [
        {
          "output_type": "execute_result",
          "data": {
            "text/plain": [
              "Text(0.5, 1.0, 'Number of times a feature get selected')"
            ]
          },
          "metadata": {},
          "execution_count": 10
        },
        {
          "output_type": "display_data",
          "data": {
            "image/png": "[encoded data removed]",
            "text/plain": [
              "<Figure size 432x288 with 1 Axes>"
            ]
          },
          "metadata": {
            "needs_background": "light"
          }
        }
      ]
    },
    {
      "cell_type": "code",
      "metadata": {
        "colab": {
          "base_uri": "https://localhost:8080/"
        },
        "id": "xf1v1UEPvycK",
        "outputId": "61aabbb8-5276-4161-c41c-235cfaa1f0ba"
      },
      "source": [
        "print('Selected features: ', X.columns[mask.values].values)"
      ],
      "execution_count": 11,
      "outputs": [
        {
          "output_type": "stream",
          "name": "stdout",
          "text": [
            "Selected features:  ['BMI' 'Función_Predictora' 'Embarazos']\n"
          ]
        }
      ]
    },
    {
      "cell_type": "markdown",
      "metadata": {
        "id": "NBuH4NYjq5Ym"
      },
      "source": [
        "# Question a)\n",
        "Crea un modelo de regresión logística a 3 variables para predecir la diabetes. Justifica el porqué de tu elección."
      ]
    },
    {
      "cell_type": "markdown",
      "metadata": {
        "id": "7IuS6vGmnE_T"
      },
      "source": [
        "We chose 'Embarazos', 'BMI', and 'Funcion_predictora' because they are the ones that get selected more consistently across splits of a stratified K-fold cross validation procedure using RFE as feature selection mechanism."
      ]
    },
    {
      "cell_type": "markdown",
      "metadata": {
        "id": "qb9OU6iqvgd5"
      },
      "source": [
        "# 5. Training the model"
      ]
    },
    {
      "cell_type": "code",
      "metadata": {
        "colab": {
          "base_uri": "https://localhost:8080/"
        },
        "id": "HUDS1VCX21ZK",
        "outputId": "fe213b1c-92e4-41b9-ce73-2b72801e2589"
      },
      "source": [
        "X_fs = X[X.columns[mask.values].values]\n",
        "model_lr = linear_model.LogisticRegression(max_iter=500)\n",
        "model_lr.fit(X_fs,Y.values.ravel())"
      ],
      "execution_count": 16,
      "outputs": [
        {
          "output_type": "execute_result",
          "data": {
            "text/plain": [
              "LogisticRegression(C=1.0, class_weight=None, dual=False, fit_intercept=True,\n",
              "                   intercept_scaling=1, l1_ratio=None, max_iter=500,\n",
              "                   multi_class='auto', n_jobs=None, penalty='l2',\n",
              "                   random_state=None, solver='lbfgs', tol=0.0001, verbose=0,\n",
              "                   warm_start=False)"
            ]
          },
          "metadata": {},
          "execution_count": 16
        }
      ]
    },
    {
      "cell_type": "code",
      "metadata": {
        "id": "J-h2ae6Ivjpw"
      },
      "source": [
        "# cross-validation procedure\n",
        "model = linear_model.LogisticRegression(max_iter=500)\n",
        "cv = RepeatedStratifiedKFold(n_splits=5, n_repeats=3, random_state=1)\n",
        "n_scores = cross_val_score(model, X_fs, Y, scoring='accuracy', cv=cv, n_jobs=-1, error_score='raise')"
      ],
      "execution_count": 17,
      "outputs": []
    },
    {
      "cell_type": "markdown",
      "metadata": {
        "id": "Qza4ad8EyLPY"
      },
      "source": [
        "# Question b)\n",
        "\n",
        "Realiza una validaci\u0013on cruzada para justificar la certitud de tu\n",
        "trabajo. ¿Cuál es el promedio del score de tu validación?"
      ]
    },
    {
      "cell_type": "code",
      "metadata": {
        "colab": {
          "base_uri": "https://localhost:8080/"
        },
        "id": "6y4yM_3NwVF9",
        "outputId": "10d14d07-dc9b-48da-d572-de600af8bf7d"
      },
      "source": [
        "print('Mean accuracy: %.3f:' % (np.mean(n_scores)))"
      ],
      "execution_count": 18,
      "outputs": [
        {
          "output_type": "stream",
          "name": "stdout",
          "text": [
            "Mean accuracy: 0.719:\n"
          ]
        }
      ]
    },
    {
      "cell_type": "markdown",
      "metadata": {
        "id": "b4B3j_xU3O0J"
      },
      "source": [
        "# 6. Evaluate the model"
      ]
    },
    {
      "cell_type": "markdown",
      "metadata": {
        "id": "m9NPgZd43mNm"
      },
      "source": [
        "## 6.1. Load test instances"
      ]
    },
    {
      "cell_type": "code",
      "metadata": {
        "colab": {
          "base_uri": "https://localhost:8080/",
          "height": 419
        },
        "id": "ThbSTCfK3o8T",
        "outputId": "bb0e7892-1d81-4dc7-bf5e-8f6022a07bb0"
      },
      "source": [
        "diabetes_pred = pd.read_csv(\"DiabetesPredicciones.csv\", sep=\",\")\n",
        "diabetes_pred"
      ],
      "execution_count": 20,
      "outputs": [
        {
          "output_type": "execute_result",
          "data": {
            "text/html": [
              "<div>\n",
              "<style scoped>\n",
              "    .dataframe tbody tr th:only-of-type {\n",
              "        vertical-align: middle;\n",
              "    }\n",
              "\n",
              "    .dataframe tbody tr th {\n",
              "        vertical-align: top;\n",
              "    }\n",
              "\n",
              "    .dataframe thead th {\n",
              "        text-align: right;\n",
              "    }\n",
              "</style>\n",
              "<table border=\"1\" class=\"dataframe\">\n",
              "  <thead>\n",
              "    <tr style=\"text-align: right;\">\n",
              "      <th></th>\n",
              "      <th>Embarazos</th>\n",
              "      <th>Glucosa</th>\n",
              "      <th>Presión_Sanguinea</th>\n",
              "      <th>Insulina</th>\n",
              "      <th>BMI</th>\n",
              "      <th>Función_Predictora</th>\n",
              "      <th>Edad</th>\n",
              "    </tr>\n",
              "  </thead>\n",
              "  <tbody>\n",
              "    <tr>\n",
              "      <th>0</th>\n",
              "      <td>5</td>\n",
              "      <td>115</td>\n",
              "      <td>76</td>\n",
              "      <td>0</td>\n",
              "      <td>31.2</td>\n",
              "      <td>0.343</td>\n",
              "      <td>44</td>\n",
              "    </tr>\n",
              "    <tr>\n",
              "      <th>1</th>\n",
              "      <td>13</td>\n",
              "      <td>129</td>\n",
              "      <td>0</td>\n",
              "      <td>0</td>\n",
              "      <td>39.9</td>\n",
              "      <td>0.569</td>\n",
              "      <td>44</td>\n",
              "    </tr>\n",
              "    <tr>\n",
              "      <th>2</th>\n",
              "      <td>3</td>\n",
              "      <td>187</td>\n",
              "      <td>70</td>\n",
              "      <td>200</td>\n",
              "      <td>36.4</td>\n",
              "      <td>0.408</td>\n",
              "      <td>36</td>\n",
              "    </tr>\n",
              "    <tr>\n",
              "      <th>3</th>\n",
              "      <td>9</td>\n",
              "      <td>122</td>\n",
              "      <td>56</td>\n",
              "      <td>0</td>\n",
              "      <td>33.3</td>\n",
              "      <td>1.114</td>\n",
              "      <td>33</td>\n",
              "    </tr>\n",
              "    <tr>\n",
              "      <th>4</th>\n",
              "      <td>8</td>\n",
              "      <td>118</td>\n",
              "      <td>72</td>\n",
              "      <td>0</td>\n",
              "      <td>23.1</td>\n",
              "      <td>1.476</td>\n",
              "      <td>46</td>\n",
              "    </tr>\n",
              "    <tr>\n",
              "      <th>...</th>\n",
              "      <td>...</td>\n",
              "      <td>...</td>\n",
              "      <td>...</td>\n",
              "      <td>...</td>\n",
              "      <td>...</td>\n",
              "      <td>...</td>\n",
              "      <td>...</td>\n",
              "    </tr>\n",
              "    <tr>\n",
              "      <th>111</th>\n",
              "      <td>3</td>\n",
              "      <td>173</td>\n",
              "      <td>78</td>\n",
              "      <td>185</td>\n",
              "      <td>33.8</td>\n",
              "      <td>0.970</td>\n",
              "      <td>31</td>\n",
              "    </tr>\n",
              "    <tr>\n",
              "      <th>112</th>\n",
              "      <td>3</td>\n",
              "      <td>171</td>\n",
              "      <td>72</td>\n",
              "      <td>135</td>\n",
              "      <td>33.3</td>\n",
              "      <td>0.199</td>\n",
              "      <td>24</td>\n",
              "    </tr>\n",
              "    <tr>\n",
              "      <th>113</th>\n",
              "      <td>3</td>\n",
              "      <td>112</td>\n",
              "      <td>74</td>\n",
              "      <td>0</td>\n",
              "      <td>31.6</td>\n",
              "      <td>0.197</td>\n",
              "      <td>25</td>\n",
              "    </tr>\n",
              "    <tr>\n",
              "      <th>114</th>\n",
              "      <td>1</td>\n",
              "      <td>181</td>\n",
              "      <td>78</td>\n",
              "      <td>293</td>\n",
              "      <td>40.0</td>\n",
              "      <td>1.258</td>\n",
              "      <td>22</td>\n",
              "    </tr>\n",
              "    <tr>\n",
              "      <th>115</th>\n",
              "      <td>14</td>\n",
              "      <td>100</td>\n",
              "      <td>78</td>\n",
              "      <td>184</td>\n",
              "      <td>36.6</td>\n",
              "      <td>0.412</td>\n",
              "      <td>46</td>\n",
              "    </tr>\n",
              "  </tbody>\n",
              "</table>\n",
              "<p>116 rows × 7 columns</p>\n",
              "</div>"
            ],
            "text/plain": [
              "     Embarazos  Glucosa  Presión_Sanguinea  ...   BMI  Función_Predictora  Edad\n",
              "0            5      115                 76  ...  31.2               0.343    44\n",
              "1           13      129                  0  ...  39.9               0.569    44\n",
              "2            3      187                 70  ...  36.4               0.408    36\n",
              "3            9      122                 56  ...  33.3               1.114    33\n",
              "4            8      118                 72  ...  23.1               1.476    46\n",
              "..         ...      ...                ...  ...   ...                 ...   ...\n",
              "111          3      173                 78  ...  33.8               0.970    31\n",
              "112          3      171                 72  ...  33.3               0.199    24\n",
              "113          3      112                 74  ...  31.6               0.197    25\n",
              "114          1      181                 78  ...  40.0               1.258    22\n",
              "115         14      100                 78  ...  36.6               0.412    46\n",
              "\n",
              "[116 rows x 7 columns]"
            ]
          },
          "metadata": {},
          "execution_count": 20
        }
      ]
    },
    {
      "cell_type": "code",
      "metadata": {
        "colab": {
          "base_uri": "https://localhost:8080/",
          "height": 279
        },
        "id": "dQMJlDWK3uaR",
        "outputId": "bdaf1eee-e32d-4cda-db19-f5f43b41a87e"
      },
      "source": [
        "# Pick the features that were selected previously\n",
        "X_pred = diabetes_pred[X.columns[mask.values].values]\n",
        "Y_pred = model_lr.predict(X_pred)\n",
        "Y_pred_df = pd.DataFrame(Y_pred, columns=['Resultado'])\n",
        "ax = sns.countplot(x=\"Resultado\", data=Y_pred_df)\n",
        "for p in ax.patches:\n",
        "    ax.annotate(f'\\n{p.get_height()}', (p.get_x()+0.4, p.get_height()), ha='center', va='top', color='white', size=18)\n",
        "plt.show()"
      ],
      "execution_count": 21,
      "outputs": [
        {
          "output_type": "display_data",
          "data": {
            "image/png": "[encoded data removed]",
            "text/plain": [
              "<Figure size 432x288 with 1 Axes>"
            ]
          },
          "metadata": {
            "needs_background": "light"
          }
        }
      ]
    },
    {
      "cell_type": "markdown",
      "metadata": {
        "id": "VthVivFR6Inv"
      },
      "source": [
        "# Question c)\n",
        "\n",
        "En el documento \"DiabetesPredicciones.csv\" estan una lista de\n",
        "pacientes que potencialmente pueden tener esta enfermedad, haz\n",
        "una predicción con este conjunto. ¿Cuántos de ellos dan un\n",
        "resultado positivo?"
      ]
    },
    {
      "cell_type": "code",
      "metadata": {
        "colab": {
          "base_uri": "https://localhost:8080/"
        },
        "id": "OgZ9mKUN6HlN",
        "outputId": "372a2fc2-72b3-4887-9f34-f8d6798dcc80"
      },
      "source": [
        "print(Y_pred_df.value_counts())\n",
        "print('\\n',Y_pred_df.value_counts()[1].values[0], 'personas dan un resultado positivo')"
      ],
      "execution_count": 22,
      "outputs": [
        {
          "output_type": "stream",
          "name": "stdout",
          "text": [
            "Resultado\n",
            "0.0          93\n",
            "1.0          23\n",
            "dtype: int64\n",
            "\n",
            " 23 personas dan un resultado positivo\n"
          ]
        }
      ]
    },
    {
      "cell_type": "markdown",
      "metadata": {
        "id": "I-6Ocit97lAJ"
      },
      "source": [
        "## 6.2. Load test labels"
      ]
    },
    {
      "cell_type": "code",
      "metadata": {
        "colab": {
          "base_uri": "https://localhost:8080/"
        },
        "id": "ZvHdx25t7VhU",
        "outputId": "bbc09a88-1332-4ba4-b9f7-927cb3f1e342"
      },
      "source": [
        "diabetes_res = pd.read_csv(\"DiabetesResultados.csv\", sep=\",\")\n",
        "diabetes_res.value_counts()"
      ],
      "execution_count": 24,
      "outputs": [
        {
          "output_type": "execute_result",
          "data": {
            "text/plain": [
              "Resultado\n",
              "0            70\n",
              "1            46\n",
              "dtype: int64"
            ]
          },
          "metadata": {},
          "execution_count": 24
        }
      ]
    },
    {
      "cell_type": "markdown",
      "metadata": {
        "id": "NyYHUVD5_QDl"
      },
      "source": [
        "# Question d)\n",
        "\n",
        "Si los resultados de los pacientes anteriores se encuentran en el dataset \"DiabetesResultados.csv\". ¿Cuál es la exactitud, la precisión y la taza de error de la predicción ?"
      ]
    },
    {
      "cell_type": "code",
      "metadata": {
        "colab": {
          "base_uri": "https://localhost:8080/"
        },
        "id": "6RYBOqGo-x_T",
        "outputId": "b0d23a3a-544b-41d2-f579-4925cc20d415"
      },
      "source": [
        "tn, fp, fn, tp = confusion_matrix(diabetes_res,Y_pred_df ).ravel()\n",
        "print('Exactitud=',(tp/(tp+fp)))\n",
        "print('Precisión=',(tp/(tp+fn)))\n",
        "print('Taza de error= %.3f%%' % (100*(1-(tp+tn)/(tp+tn+fp+fn))))"
      ],
      "execution_count": 25,
      "outputs": [
        {
          "output_type": "stream",
          "name": "stdout",
          "text": [
            "Exactitud= 0.7391304347826086\n",
            "Precisión= 0.3695652173913043\n",
            "Taza de error= 30.172%\n"
          ]
        }
      ]
    }
  ]
}